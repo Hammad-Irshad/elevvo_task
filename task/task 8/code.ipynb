{
 "cells": [
  {
   "cell_type": "code",
   "execution_count": 1,
   "id": "bc3390fd",
   "metadata": {},
   "outputs": [],
   "source": [
    "# Step 1: Import libraries\n",
    "import os\n",
    "import numpy as np\n",
    "import pandas as pd\n",
    "import matplotlib.pyplot as plt\n",
    "import cv2\n",
    "from sklearn.model_selection import train_test_split\n",
    "from sklearn.metrics import classification_report, confusion_matrix\n",
    "from tensorflow.keras.utils import to_categorical\n",
    "from tensorflow.keras.models import Sequential, load_model\n",
    "from tensorflow.keras.layers import Conv2D, MaxPooling2D, Flatten, Dense, Dropout\n",
    "from tensorflow.keras.callbacks import EarlyStopping"
   ]
  },
  {
   "cell_type": "code",
   "execution_count": 2,
   "id": "c7df64ad",
   "metadata": {},
   "outputs": [],
   "source": [
    "# Step 2: Load and preprocess dataset (define your path here)\n",
    "data_dir = \"Train\"\n",
    "img_size = 32\n",
    "num_classes = 43  # GTSRB has 43 classes\n",
    "\n",
    "X = []\n",
    "y = []"
   ]
  },
  {
   "cell_type": "code",
   "execution_count": 3,
   "id": "78b4125b",
   "metadata": {},
   "outputs": [
    {
     "name": "stdout",
     "output_type": "stream",
     "text": [
      "✅ Loaded 39209 images\n"
     ]
    }
   ],
   "source": [
    "for label in range(num_classes):\n",
    "    path = os.path.join(data_dir, str(label))\n",
    "    for img_file in os.listdir(path):\n",
    "        try:\n",
    "            img = cv2.imread(os.path.join(path, img_file))\n",
    "            img = cv2.resize(img, (img_size, img_size))\n",
    "            X.append(img)\n",
    "            y.append(label)\n",
    "        except Exception as e:\n",
    "            continue\n",
    "\n",
    "X = np.array(X) / 255.0\n",
    "y = to_categorical(y, num_classes)\n",
    "\n",
    "print(f\"✅ Loaded {len(X)} images\")"
   ]
  },
  {
   "cell_type": "code",
   "execution_count": 4,
   "id": "28b5476b",
   "metadata": {},
   "outputs": [],
   "source": [
    "# Step 3: Split data\n",
    "X_train, X_val, y_train, y_val = train_test_split(X, y, test_size=0.2, random_state=42)"
   ]
  },
  {
   "cell_type": "code",
   "execution_count": 5,
   "id": "72c22baa",
   "metadata": {},
   "outputs": [],
   "source": [
    "# Step 4: Try loading pre-trained model\n",
    "model_path = \"traffic_sign_model.h5\""
   ]
  },
  {
   "cell_type": "code",
   "execution_count": 6,
   "id": "eb46907a",
   "metadata": {},
   "outputs": [
    {
     "name": "stderr",
     "output_type": "stream",
     "text": [
      "WARNING:absl:Compiled the loaded model, but the compiled metrics have yet to be built. `model.compile_metrics` will be empty until you train or evaluate the model.\n"
     ]
    },
    {
     "name": "stdout",
     "output_type": "stream",
     "text": [
      "✅ Loaded pre-trained model!\n"
     ]
    }
   ],
   "source": [
    "if os.path.exists(model_path):\n",
    "    model = load_model(model_path)\n",
    "    print(\"✅ Loaded pre-trained model!\")\n",
    "else:\n",
    "    print(\"❌ No pre-trained model found. Training a new model...\")\n",
    "    model = Sequential([\n",
    "        Conv2D(32, (3,3), activation='relu', input_shape=(img_size, img_size, 3)),\n",
    "        MaxPooling2D(2,2),\n",
    "        Conv2D(64, (3,3), activation='relu'),\n",
    "        MaxPooling2D(2,2),\n",
    "        Flatten(),\n",
    "        Dense(128, activation='relu'),\n",
    "        Dropout(0.5),\n",
    "        Dense(num_classes, activation='softmax')\n",
    "    ])\n",
    "    model.compile(optimizer='adam', loss='categorical_crossentropy', metrics=['accuracy'])\n",
    "    es = EarlyStopping(monitor='val_loss', patience=3)\n",
    "    model.fit(X_train, y_train, epochs=10, validation_data=(X_val, y_val), callbacks=[es])\n",
    "    model.save(model_path)\n",
    "    print(\"✅ Model trained and saved.\")"
   ]
  },
  {
   "cell_type": "code",
   "execution_count": 7,
   "id": "66718511",
   "metadata": {},
   "outputs": [
    {
     "name": "stdout",
     "output_type": "stream",
     "text": [
      "\u001b[1m246/246\u001b[0m \u001b[32m━━━━━━━━━━━━━━━━━━━━\u001b[0m\u001b[37m\u001b[0m \u001b[1m23s\u001b[0m 41ms/step - accuracy: 0.9908 - loss: 0.0359\n",
      "📊 Validation Accuracy: 0.9908\n"
     ]
    }
   ],
   "source": [
    "# Step 5: Evaluate\n",
    "val_loss, val_acc = model.evaluate(X_val, y_val)\n",
    "print(f\"📊 Validation Accuracy: {val_acc:.4f}\")"
   ]
  },
  {
   "cell_type": "code",
   "execution_count": 8,
   "id": "417e8d7f",
   "metadata": {},
   "outputs": [
    {
     "name": "stdout",
     "output_type": "stream",
     "text": [
      "\u001b[1m246/246\u001b[0m \u001b[32m━━━━━━━━━━━━━━━━━━━━\u001b[0m\u001b[37m\u001b[0m \u001b[1m9s\u001b[0m 35ms/step\n",
      "\n",
      "Confusion Matrix:\n",
      "[[ 32   4   0 ...   0   0   0]\n",
      " [  0 491   3 ...   0   0   0]\n",
      " [  0   0 445 ...   0   0   0]\n",
      " ...\n",
      " [  0   0   0 ...  60   0   0]\n",
      " [  0   0   0 ...   0  46   0]\n",
      " [  0   0   0 ...   0   0  41]]\n"
     ]
    }
   ],
   "source": [
    "# Step 6: Show confusion matrix\n",
    "preds = model.predict(X_val)\n",
    "y_pred = np.argmax(preds, axis=1)\n",
    "y_true = np.argmax(y_val, axis=1)\n",
    "\n",
    "cm = confusion_matrix(y_true, y_pred)\n",
    "print(\"\\nConfusion Matrix:\")\n",
    "print(cm)"
   ]
  },
  {
   "cell_type": "code",
   "execution_count": 9,
   "id": "10af36d5",
   "metadata": {},
   "outputs": [],
   "source": [
    "# Step 7: Visualize Accuracy & Loss Curves\n",
    "if 'history' in locals():\n",
    "    # Accuracy Plot\n",
    "    plt.figure(figsize=(10,4))\n",
    "    plt.subplot(1,2,1)\n",
    "    plt.plot(history.history['accuracy'], label='Train Accuracy')\n",
    "    plt.plot(history.history['val_accuracy'], label='Val Accuracy')\n",
    "    plt.xlabel('Epoch')\n",
    "    plt.ylabel('Accuracy')\n",
    "    plt.title('Training vs Validation Accuracy')\n",
    "    plt.legend()\n",
    "\n",
    "    # Loss Plot\n",
    "    plt.subplot(1,2,2)\n",
    "    plt.plot(history.history['loss'], label='Train Loss')\n",
    "    plt.plot(history.history['val_loss'], label='Val Loss')\n",
    "    plt.xlabel('Epoch')\n",
    "    plt.ylabel('Loss')\n",
    "    plt.title('Training vs Validation Loss')\n",
    "    plt.legend()\n",
    "\n",
    "    plt.tight_layout()\n",
    "    plt.show()\n"
   ]
  }
 ],
 "metadata": {
  "kernelspec": {
   "display_name": "Python 3",
   "language": "python",
   "name": "python3"
  },
  "language_info": {
   "codemirror_mode": {
    "name": "ipython",
    "version": 3
   },
   "file_extension": ".py",
   "mimetype": "text/x-python",
   "name": "python",
   "nbconvert_exporter": "python",
   "pygments_lexer": "ipython3",
   "version": "3.10.0"
  }
 },
 "nbformat": 4,
 "nbformat_minor": 5
}
